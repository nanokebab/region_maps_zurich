{
 "cells": [
  {
   "cell_type": "markdown",
   "metadata": {},
   "source": [
    "<h1><center><font color=purple>Detecting windsurfers on webcam images from Urnersee</font></center></h1>\n",
    "<h4><center><font color=purple>(1) using YOLO from ImageAI</font></center></h4>\n",
    "\n",
    "***\n",
    "\n",
    "<strong>Key objectives:<br></strong>Estimate the number of windsurfers on Urnersee using object detection on webcam images of Urnersee.\n",
    "\n",
    "<strong>Datasets:<br></strong> (1) <i>'Webcam Axenegg'</i> of Surfclub Uri: https://www.surfclub-uri.ch/webcam/webcam_axenegg.jpg"
   ]
  },
  {
   "cell_type": "code",
   "execution_count": 1,
   "metadata": {},
   "outputs": [],
   "source": [
    "# imports\n",
    "from imageai.Detection import ObjectDetection\n",
    "from PIL import Image"
   ]
  },
  {
   "cell_type": "code",
   "execution_count": 2,
   "metadata": {},
   "outputs": [],
   "source": [
    "# create an instance of the ObjectDetection class & set the model type to the YOLOv3 model\n",
    "obj_detect = ObjectDetection()\n",
    "obj_detect.setModelTypeAsYOLOv3()"
   ]
  },
  {
   "cell_type": "code",
   "execution_count": 4,
   "metadata": {},
   "outputs": [],
   "source": [
    "# pass to our instance the path to the model file & load the model from this path\n",
    "obj_detect.setModelPath(r\"./src/yolov3.pt\")\n",
    "obj_detect.loadModel()"
   ]
  },
  {
   "cell_type": "code",
   "execution_count": 15,
   "metadata": {},
   "outputs": [],
   "source": [
    "# perform object detection task\n",
    "detected_obj = obj_detect.detectObjectsFromImage(\n",
    "    input_image=r\"./data/raw/webcam_bucht_1.jpeg\",\n",
    "    output_image_path=r\"./data/processed/webcam_axenegg_7_output.jpeg\",\n",
    "    minimum_percentage_probability = 20\n",
    ")"
   ]
  },
  {
   "cell_type": "code",
   "execution_count": 16,
   "metadata": {},
   "outputs": [
    {
     "name": "stdout",
     "output_type": "stream",
     "text": [
      "boat-76.64 [2306, 744, 2333, 785]\n",
      "boat-99.76 [1688, 682, 1729, 736]\n",
      "surfboard-38.29 [1923, 847, 1997, 919]\n"
     ]
    }
   ],
   "source": [
    "# print the labels of the detected objects and their bounding boxes\n",
    "for obj in detected_obj:\n",
    "    print(obj[\"name\"] + \"-\"\n",
    "          +str(obj[\"percentage_probability\"]),\n",
    "          obj[\"box_points\"])"
   ]
  },
  {
   "cell_type": "code",
   "execution_count": 17,
   "metadata": {},
   "outputs": [
    {
     "name": "stderr",
     "output_type": "stream",
     "text": [
      "/usr/local/Cellar/python@3.9/3.9.18/Frameworks/Python.framework/Versions/3.9/lib/python3.9/subprocess.py:1052: ResourceWarning: subprocess 10913 is still running\n",
      "  _warn(\"subprocess %s is still running\" % self.pid,\n",
      "ResourceWarning: Enable tracemalloc to get the object allocation traceback\n"
     ]
    }
   ],
   "source": [
    "# display image with labels and bounding boxes\n",
    "im = Image.open(r\"./data/processed/webcam_axenegg_7_output.jpeg\")\n",
    "im.show()"
   ]
  },
  {
   "cell_type": "code",
   "execution_count": null,
   "metadata": {},
   "outputs": [],
   "source": []
  }
 ],
 "metadata": {
  "kernelspec": {
   "display_name": "Python 3",
   "language": "python",
   "name": "python3"
  },
  "language_info": {
   "codemirror_mode": {
    "name": "ipython",
    "version": 3
   },
   "file_extension": ".py",
   "mimetype": "text/x-python",
   "name": "python",
   "nbconvert_exporter": "python",
   "pygments_lexer": "ipython3",
   "version": "3.9.18"
  },
  "orig_nbformat": 4
 },
 "nbformat": 4,
 "nbformat_minor": 2
}
