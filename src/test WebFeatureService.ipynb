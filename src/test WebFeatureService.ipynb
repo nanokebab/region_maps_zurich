{
 "cells": [
  {
   "cell_type": "code",
   "execution_count": null,
   "metadata": {},
   "outputs": [],
   "source": [
    "##### Try to get zurich map data using WebFeatureService"
   ]
  },
  {
   "cell_type": "code",
   "execution_count": 15,
   "metadata": {},
   "outputs": [],
   "source": [
    "from owslib.wfs import WebFeatureService"
   ]
  },
  {
   "cell_type": "code",
   "execution_count": 20,
   "metadata": {},
   "outputs": [],
   "source": [
    "wfs11 = WebFeatureService(url='http://maps.zh.ch/wfs/OGDZHWFS',version='2.0.0')"
   ]
  },
  {
   "cell_type": "code",
   "execution_count": 21,
   "metadata": {},
   "outputs": [
    {
     "data": {
      "text/plain": [
       "'OGD ZH WFS'"
      ]
     },
     "execution_count": 21,
     "metadata": {},
     "output_type": "execute_result"
    }
   ],
   "source": [
    "wfs11.identification.title"
   ]
  },
  {
   "cell_type": "code",
   "execution_count": 22,
   "metadata": {},
   "outputs": [
    {
     "data": {
      "text/plain": [
       "['GetCapabilities',\n",
       " 'DescribeFeatureType',\n",
       " 'GetFeature',\n",
       " 'GetPropertyValue',\n",
       " 'ListStoredQueries',\n",
       " 'DescribeStoredQueries',\n",
       " 'version',\n",
       " 'ImplementsBasicWFS',\n",
       " 'ImplementsTransactionalWFS',\n",
       " 'ImplementsLockingWFS',\n",
       " 'KVPEncoding',\n",
       " 'XMLEncoding',\n",
       " 'SOAPEncoding',\n",
       " 'ImplementsInheritance',\n",
       " 'ImplementsRemoteResolve',\n",
       " 'ImplementsResultPaging',\n",
       " 'ImplementsStandardJoins',\n",
       " 'ImplementsSpatialJoins',\n",
       " 'ImplementsTemporalJoins',\n",
       " 'ImplementsFeatureVersioning',\n",
       " 'ManageStoredQueries',\n",
       " 'PagingIsTransactionSafe',\n",
       " 'QueryExpressions']"
      ]
     },
     "execution_count": 22,
     "metadata": {},
     "output_type": "execute_result"
    }
   ],
   "source": [
    "[operation.name for operation in wfs11.operations]"
   ]
  },
  {
   "cell_type": "code",
   "execution_count": 27,
   "metadata": {},
   "outputs": [
    {
     "data": {
      "text/plain": [
       "['ms:ogd-0260_giszhpub_anthroposol_fffpot_f',\n",
       " 'ms:ogd-0261_giszhpub_wald_schutzwald_f',\n",
       " 'ms:ogd-0261_giszhpub_wald_grs_waldobjekte_f',\n",
       " 'ms:ogd-0268_arv_basis_av_plz_ortschaften_f',\n",
       " 'ms:ogd-0272_stat_gebaeude_ha_f',\n",
       " 'ms:ogd-0272_stat_gebaeude_ha_p',\n",
       " 'ms:ogd-0277_arv_basis_arv_adressen_p',\n",
       " 'ms:ogd-0278_arv_basis_up_stadtquartiere_f',\n",
       " 'ms:ogd-0278_arv_basis_up_gemeinden_stadtkreise_f',\n",
       " 'ms:ogd-0278_arv_basis_up_gemeinden_stadtquartiere_f',\n",
       " 'ms:ogd-0281_giszhpub_wb_unterhaltsgebiete_f',\n",
       " 'ms:ogd-0281_giszhpub_wb_unterhalt_seen_f',\n",
       " 'ms:ogd-0281_giszhpub_wb_zustaendigkeiten_l',\n",
       " 'ms:ogd-0281_giszhpub_wb_werkhoefe_p',\n",
       " 'ms:ogd-0281_giszhpub_wb_zustaendigkeiten_f',\n",
       " 'ms:ogd-0281_giszhpub_wb_zustaendig_gn_seen_f',\n",
       " 'ms:ogd-0290_giszhpub_wald_luftbildbestand_f',\n",
       " 'ms:ogd-0293_giszhpub_fj_wtk_achsen_national_f',\n",
       " 'ms:ogd-0293_giszhpub_fj_wtk_achsen_regional_f',\n",
       " 'ms:ogd-0293_giszhpub_fj_wtk_barriere_i_f',\n",
       " 'ms:ogd-0293_giszhpub_fj_wtk_barriere_i_l',\n",
       " 'ms:ogd-0293_giszhpub_fj_wtk_barriere_ii_f',\n",
       " 'ms:ogd-0293_giszhpub_fj_wtk_barriere_ii_l',\n",
       " 'ms:ogd-0293_giszhpub_fj_wtk_barriere_iii_l',\n",
       " 'ms:ogd-0293_giszhpub_fj_wtk_leitstruktur_l',\n",
       " 'ms:ogd-0293_giszhpub_fj_wtk_massnahmen_p',\n",
       " 'ms:ogd-0293_giszhpub_fj_wtk_perimeter_f',\n",
       " 'ms:ogd-0293_giszhpub_fj_wtk_zwangswechsel_l',\n",
       " 'ms:ogd-0293_giszhpub_fj_wtk_achsen_national_2009_f',\n",
       " 'ms:ogd-0293_giszhpub_fj_wtk_achsen_regional_2009_f',\n",
       " 'ms:ogd-0293_aln_fj_wtk_barriere_i_2009_f',\n",
       " 'ms:ogd-0293_aln_fj_wtk_barriere_i_2009_l',\n",
       " 'ms:ogd-0293_aln_fj_wtk_barriere_ii_2009_f',\n",
       " 'ms:ogd-0293_aln_fj_wtk_barriere_ii_2009_l',\n",
       " 'ms:ogd-0293_aln_fj_wtk_barriere_iii_2009_l',\n",
       " 'ms:ogd-0293_aln_fj_wtk_leitstruktur_2009_l',\n",
       " 'ms:ogd-0293_aln_fj_wtk_massnahmen_2009_p',\n",
       " 'ms:ogd-0293_aln_fj_wtk_perimeter_2009_f',\n",
       " 'ms:ogd-0293_aln_fj_wtk_zwangswechsel_2009_l',\n",
       " 'ms:ogd-0306_giszhpub_fns_bun_massnahme_archiv_f',\n",
       " 'ms:ogd-0306_giszhpub_fns_bun_massnahme_archiv_l',\n",
       " 'ms:ogd-0306_giszhpub_fns_bun_massnahme_archiv_p',\n",
       " 'ms:ogd-0349_giszhpub_dtmzh_hoehen_l',\n",
       " 'ms:ogd-0306_giszhpub_fns_bun_nutzbrache_archiv_f',\n",
       " 'ms:ogd-0314_giszhpub_fischrevier_bereiche_f',\n",
       " 'ms:ogd-0314_giszhpub_fischrevier_gewaessernetz_l',\n",
       " 'ms:ogd-0314_giszhpub_fischrevier_stillgewaesser_f',\n",
       " 'ms:ogd-0316_giszhpub_gs_waermenutzungsatlas_f',\n",
       " 'ms:ogd-0316_giszhpub_gs_ews_auflagen_f',\n",
       " 'ms:ogd-0317_giszhpub_gs_grundwasserpiezometer_ogd_p',\n",
       " 'ms:ogd-0317_giszhpub_gs_sammelschacht_becken_ogd_p',\n",
       " 'ms:ogd-0317_giszhpub_gs_quellfassungen_ogd_p',\n",
       " 'ms:ogd-0317_giszhpub_gs_erdregister_ogd_p',\n",
       " 'ms:ogd-0318_giszhpub_gs_tunnel_l',\n",
       " 'ms:ogd-0323_aln_fns_fns_gebietsbetreuung_f',\n",
       " 'ms:ogd-0326_giszhpub_gs_grundwasserpegel_p',\n",
       " 'ms:ogd-0326_giszhpub_gs_limnigraphenstationen_p',\n",
       " 'ms:ogd-0327_giszhpub_gs_gw_dichtungswand_l',\n",
       " 'ms:ogd-0327_giszhpub_gs_gw_entwaesserungskanal_l',\n",
       " 'ms:ogd-0327_giszhpub_gs_gw_fliessrichtung_hw_l',\n",
       " 'ms:ogd-0327_giszhpub_gs_gw_fliessrichtung_mw_l',\n",
       " 'ms:ogd-0327_giszhpub_gs_gw_bedeckung_l',\n",
       " 'ms:ogd-0327_giszhpub_gs_gw_bedeckung_f',\n",
       " 'ms:ogd-0327_giszhpub_gs_gw_begrenzung_l',\n",
       " 'ms:ogd-0327_giszhpub_gs_gw_gebiet_f',\n",
       " 'ms:ogd-0327_giszhpub_gs_gw_leiter_l',\n",
       " 'ms:ogd-0327_giszhpub_gs_gw_leiter_f',\n",
       " 'ms:ogd-0327_giszhpub_gs_gw_leiter_see_l',\n",
       " 'ms:ogd-0327_giszhpub_gs_gw_maechtigkeit_l',\n",
       " 'ms:ogd-0327_giszhpub_gs_gw_hw_text_p',\n",
       " 'ms:ogd-0327_giszhpub_gs_gw_in_exfiltration_l',\n",
       " 'ms:ogd-0327_giszhpub_gs_gw_isohypse_hw_l',\n",
       " 'ms:ogd-0327_giszhpub_gs_gw_isohypse_mw_l',\n",
       " 'ms:ogd-0327_giszhpub_gs_gw_isohypse_mw_halb_l',\n",
       " 'ms:ogd-0327_giszhpub_gs_gw_kiesabbau_f',\n",
       " 'ms:ogd-0327_giszhpub_gs_gw_mw_text_p',\n",
       " 'ms:ogd-0327_giszhpub_gs_gw_quellhorizont_l',\n",
       " 'ms:ogd-0327_giszhpub_gs_gw_see_f',\n",
       " 'ms:ogd-0327_giszhpub_gs_gw_stauwehr_l',\n",
       " 'ms:ogd-0327_giszhpub_gs_gw_stockwerkbau_l',\n",
       " 'ms:ogd-0327_giszhpub_gs_gw_thur_f',\n",
       " 'ms:ogd-0327_giszhpub_gs_gw_artesisch_f',\n",
       " 'ms:ogd-0327_giszhpub_gs_gw_artesisch_l',\n",
       " 'ms:ogd-0329_giszhpub_en_stromleitungen_l',\n",
       " 'ms:ogd-0337_arv_basis_gen_a1_gemeinden_f',\n",
       " 'ms:ogd-0338_giszhpub_wald_forstreviere_f',\n",
       " 'ms:ogd-0346_giszhpub_dtmzh_hoehen_2017_l',\n",
       " 'ms:ogd-0348_giszhpub_zvv_tarifzonen_f',\n",
       " 'ms:ogd-0397_giszhpub_en_eignungsgebiet_gewaesser_f',\n",
       " 'ms:ogd-0353_giszhpub_fns_lrm_kartierungen_f',\n",
       " 'ms:ogd-0368_giszhpub_arv_kaz_denkmalschutzobjekte_p',\n",
       " 'ms:ogd-0371_giszhpub_wep10_pg_gwschutz_f',\n",
       " 'ms:ogd-0371_giszhpub_wep10_pg_oeffgew_l',\n",
       " 'ms:ogd-0371_giszhpub_wep10_pg_wnb_f',\n",
       " 'ms:ogd-0371_giszhpub_wep10_pg_natwaldres_f',\n",
       " 'ms:ogd-0371_giszhpub_wep10_pg_svo_f',\n",
       " 'ms:ogd-0371_giszhpub_wep10_pg_inv80_f',\n",
       " 'ms:ogd-0371_giszhpub_wep10_pg_bln_f',\n",
       " 'ms:ogd-0371_giszhpub_wep10_pg_laschutz_f',\n",
       " 'ms:ogd-0371_giszhpub_wep10_pg_lafoe_f',\n",
       " 'ms:ogd-0371_giszhpub_wep10_pg_wildschonrevier_f',\n",
       " 'ms:ogd-0371_giszhpub_wep10_pg_erholung_f',\n",
       " 'ms:ogd-0371_giszhpub_wep10_pg_aussichtspte_p',\n",
       " 'ms:ogd-0371_giszhpub_wep10_pg_wanderwege_l',\n",
       " 'ms:ogd-0371_giszhpub_wep10_pg_reitwege_l',\n",
       " 'ms:ogd-0371_giszhpub_wep10_pg_parkier_p',\n",
       " 'ms:ogd-0371_giszhpub_wep10_pg_material_f',\n",
       " 'ms:ogd-0371_giszhpub_wep10_pg_waldareal_f',\n",
       " 'ms:ogd-0371_giszhpub_wep10_bz_grav_natgef_f',\n",
       " 'ms:ogd-0371_giszhpub_wep10_bz_gw_tw_schutz_f',\n",
       " 'ms:ogd-0371_giszhpub_wep10_bz_wald_entlang_str_f',\n",
       " 'ms:ogd-0371_giszhpub_wep10_bz_wald_entlang_bul_f',\n",
       " 'ms:ogd-0371_giszhpub_wep10_bz_holzproduktion_f',\n",
       " 'ms:ogd-0371_giszhpub_wep10_bz_liwa_f',\n",
       " 'ms:ogd-0371_giszhpub_wep10_bz_eichen_f',\n",
       " 'ms:ogd-0371_giszhpub_wep10_bz_eiben_f',\n",
       " 'ms:ogd-0371_giszhpub_wep10_bz_wrand_l',\n",
       " 'ms:ogd-0371_giszhpub_wep10_bz_naturerlebnispark_f',\n",
       " 'ms:ogd-0371_giszhpub_wep10_bz_haeufig_begangen_f',\n",
       " 'ms:ogd-0371_giszhpub_wep10_bz_wildlrm_f',\n",
       " 'ms:ogd-0371_giszhpub_wep10_bz_erholung_reg_f',\n",
       " 'ms:ogd-0371_giszhpub_wep10_waldfunktionen_f',\n",
       " 'ms:ogd-0375_giszhpub_wb_revit_planung_nutzen_l',\n",
       " 'ms:ogd-0375_giszhpub_wb_revit_planung_prio_ogd_l',\n",
       " 'ms:ogd-0400_arv_basis_avzh_fixpunkte_p',\n",
       " 'ms:ogd-0401_arv_basis_avzh_bodenbedeckung_f',\n",
       " 'ms:ogd-0401_arv_basis_avzh_bodenbedeckung_pos_p',\n",
       " 'ms:ogd-0401_arv_basis_avzh_bodenbedeckung_proj_f',\n",
       " 'ms:ogd-0401_arv_basis_avzh_bodenbedeckung_proj_pos_p',\n",
       " 'ms:ogd-0402_arv_basis_avzh_einzelobjekte_f',\n",
       " 'ms:ogd-0402_arv_basis_avzh_einzelobjekte_fpos_p',\n",
       " 'ms:ogd-0402_arv_basis_avzh_einzelobjekte_l',\n",
       " 'ms:ogd-0402_arv_basis_avzh_einzelobjekte_lpos_p',\n",
       " 'ms:ogd-0402_arv_basis_avzh_einzelobjekte_p',\n",
       " 'ms:ogd-0402_arv_basis_avzh_einzelobjekte_ppos_p',\n",
       " 'ms:ogd-0403_arv_basis_avzh_nomenklatur_f',\n",
       " 'ms:ogd-0403_arv_basis_avzh_nomenklatur_pos_p',\n",
       " 'ms:ogd-0404_arv_basis_avzh_liegenschaften_f',\n",
       " 'ms:ogd-0404_arv_basis_avzh_liegenschaften_pos_p',\n",
       " 'ms:ogd-0445_aln_fns_schwerpunktgeb_nsgk_f',\n",
       " 'ms:ogd-0442_are_rp_kilo_f',\n",
       " 'ms:ogd-0404_arv_basis_avzh_selbstrecht_f',\n",
       " 'ms:ogd-0404_arv_basis_avzh_selbstrecht_pos_p',\n",
       " 'ms:ogd-0404_arv_basis_avzh_liegenschaften_proj_f',\n",
       " 'ms:ogd-0404_arv_basis_avzh_liegenschaften_proj_pos_p',\n",
       " 'ms:ogd-0404_arv_basis_avzh_selbstrecht_proj_f',\n",
       " 'ms:ogd-0404_arv_basis_avzh_selbstrecht_proj_pos_p',\n",
       " 'ms:ogd-0404_arv_basis_avzh_grenzpunkte_p',\n",
       " 'ms:ogd-0405_arv_basis_avzh_hoheitsgrenzpunkte_p',\n",
       " 'ms:ogd-0405_arv_basis_avzh_gemeinden_f',\n",
       " 'ms:ogd-0405_arv_basis_avzh_gemeindegrenzen_proj_l',\n",
       " 'ms:ogd-0405_arv_basis_avzh_uebrigehoheitsgrenzen_l',\n",
       " 'ms:ogd-0406_arv_basis_avzh_lokalisationsname_pos_p',\n",
       " 'ms:ogd-0406_arv_basis_avzh_gebaeudeeingang_p',\n",
       " 'ms:ogd-0406_arv_basis_avzh_hausnummer_pos_p',\n",
       " 'ms:ogd-0408_giszhpub_ogd_velo_alltag_netz_l_m',\n",
       " 'ms:ogd-0408_giszhpub_tba_vnp_schwachstellen_l',\n",
       " 'ms:ogd-0410_arv_basis_avzh_rohrleitungen_f',\n",
       " 'ms:ogd-0410_arv_basis_avzh_rohrleitungen_fpos_p',\n",
       " 'ms:ogd-0410_arv_basis_avzh_rohrleitungen_l',\n",
       " 'ms:ogd-0410_arv_basis_avzh_rohrleitungen_lpos_p',\n",
       " 'ms:ogd-0410_arv_basis_avzh_rohrleitungen_p',\n",
       " 'ms:ogd-0415_stat_gebaeudealter_p',\n",
       " 'ms:ogd-0415_stat_gebaeudealter_f',\n",
       " 'ms:ogd-0428_aln_fns_betreuungsgebiete_f',\n",
       " 'ms:ogd-0437_arv_basis_up_gemeinden_hist_f',\n",
       " 'ms:ogd-0437_arv_basis_up_gemeinden_seen_hist_f',\n",
       " 'ms:ogd-0440_giszhpub_gs_fg_typisierung_l',\n",
       " 'ms:ogd-0450_giszhpub_tba_str_vkm_sign_l',\n",
       " 'ms:ogd-0452_giszhpub_tba_str_haupt_neben_l',\n",
       " 'ms:ogd-0454_giszhpub_rp_geschossflaechen_qa_f',\n",
       " 'ms:ogd-0458_giszhpub_tba_str_inner_ausserorts_l',\n",
       " 'ms:ogd-0460_awel_lh_siedlungsraum_f',\n",
       " 'ms:ogd-0460_awel_lh_gruenflaechen_f',\n",
       " 'ms:ogd-0460_awel_lh_gruenfl_volumenstrom_pfeile_p',\n",
       " 'ms:ogd-0460_awel_lh_kaltlufteinwirkbereich_f',\n",
       " 'ms:ogd-0460_awel_lh_kaltlufteinzugsgebiet_f',\n",
       " 'ms:ogd-0460_awel_lh_kaltluftleitbahnen_l',\n",
       " 'ms:ogd-0460_awel_lh_hohe_zunahme_tropennaechte_f',\n",
       " 'ms:ogd-0476_arv_basis_avzh_strassenachsen_l',\n",
       " 'ms:ogd-0481_giszhpub_rp_ueberbauungsstand_f',\n",
       " 'ms:ogd-0483_giszhpub_wb_hydrometrische_stationen_p',\n",
       " 'ms:ogd-0485_stat_quartiere_f',\n",
       " 'ms:ogd-0486_stat_arbeitszone_f',\n",
       " 'ms:ogd-0487_stat_gewerbebauland_f',\n",
       " 'ms:ogd-0489_giszhpub_tba_str_werkhoefe_p',\n",
       " 'ms:ogd-0512_giszhpub_wb_hw_rueckhaltebecken_p',\n",
       " 'ms:ogd-0515_giszhpub_wb_gew_querprofilpunkte_p',\n",
       " 'ms:ogd-0515_giszhpub_wb_gew_querprofillinien_l',\n",
       " 'ms:ogd-0515_giszhpub_wb_gew_laengsprofillinien_l',\n",
       " 'ms:ogd-0517_giszhpub_kdp_invrev_isz_objekte_f',\n",
       " 'ms:ogd-0517_giszhpub_kdp_invrev_isz_umgebung_f',\n",
       " 'ms:ogd-0523_giszhpub_tba_verkehrstechnik_bsa_p',\n",
       " 'ms:ogd-0525_giszhpub_fns_anordnung_f',\n",
       " 'ms:ogd-0525_giszhpub_fns_linearebestimmung_l',\n",
       " 'ms:ogd-0525_giszhpub_fns_objekt_f',\n",
       " 'ms:ogd-0525_giszhpub_fns_punktuellebestimmung_p',\n",
       " 'ms:ogd-0525_giszhpub_fns_schutzzone_f',\n",
       " 'ms:ogd-0525_giszhpub_fns_ueberlagerndeschutzzone_f',\n",
       " 'ms:ogd-0526_giszhpub_fns_ppf_f',\n",
       " 'ms:ogd-0526_giszhpub_fns_ppf_p',\n",
       " 'ms:ogd-0526_giszhpub_fns_ppf_syn_gew_f',\n",
       " 'ms:ogd-0526_giszhpub_fns_ppf_gesamtplanunggebiete_f',\n",
       " 'ms:ogd-0529_afv_gv_seilbahn_skilift_l',\n",
       " 'ms:ogd-0529_afv_gv_seilbahn_skilift_p',\n",
       " 'ms:ogd-0534_giszhpub_wb_hydrologiestudien_l',\n",
       " 'ms:ogd-0534_giszhpub_wb_hqwerte_p',\n",
       " 'ms:ogd-0536_arv_basis_avzh_gewaesser_f',\n",
       " 'ms:ogd-0544_are_rp_geomorph_landschaften_f',\n",
       " 'ms:ogd-0545_are_rp_landschaftstypologie_f',\n",
       " 'ms:ogd-0547_tba_fals_strl_emissionsabschnitt_ist_l',\n",
       " 'ms:ogd-0549_tba_fals_strl_emissionsabschnitt_plh_l',\n",
       " 'ms:ogd-0552_awel_wb_teileinzugsgebiet_f',\n",
       " 'ms:ogd-0552_awel_wb_gebietsauslass_p',\n",
       " 'ms:ogd-0552_awel_wb_vorfluter_abschnitt_l',\n",
       " 'ms:ogd-1676_giszhpub_gs_quellstrang_l']"
      ]
     },
     "execution_count": 27,
     "metadata": {},
     "output_type": "execute_result"
    }
   ],
   "source": [
    "list(wfs11.contents)[200:]"
   ]
  },
  {
   "cell_type": "code",
   "execution_count": null,
   "metadata": {},
   "outputs": [],
   "source": [
    "'ms:ogd-0278_arv_basis_up_stadtquartiere_f'"
   ]
  },
  {
   "cell_type": "code",
   "execution_count": 28,
   "metadata": {},
   "outputs": [],
   "source": [
    " response = wfs11.getfeature(typename='ms:ogd-0278_arv_basis_up_stadtquartiere_f')"
   ]
  },
  {
   "cell_type": "code",
   "execution_count": 29,
   "metadata": {},
   "outputs": [
    {
     "data": {
      "text/plain": [
       "<_io.BytesIO at 0x111d22830>"
      ]
     },
     "execution_count": 29,
     "metadata": {},
     "output_type": "execute_result"
    }
   ],
   "source": [
    "response"
   ]
  },
  {
   "cell_type": "code",
   "execution_count": 30,
   "metadata": {},
   "outputs": [
    {
     "data": {
      "text/plain": [
       "{'geometry': '3D MultiPolygon',\n",
       " 'geometry_column': 'geometry',\n",
       " 'properties': {'bfs': 'integer',\n",
       "  'gemeindename': 'string',\n",
       "  'geodb_oid': 'integer',\n",
       "  'quartiername': 'string',\n",
       "  'quartiernummer': 'integer'},\n",
       " 'required': ['geometry',\n",
       "  'bfs',\n",
       "  'gemeindename',\n",
       "  'quartiername',\n",
       "  'quartiernummer',\n",
       "  'geodb_oid']}"
      ]
     },
     "execution_count": 30,
     "metadata": {},
     "output_type": "execute_result"
    }
   ],
   "source": [
    "wfs11.get_schema('ms:ogd-0278_arv_basis_up_stadtquartiere_f')"
   ]
  },
  {
   "cell_type": "code",
   "execution_count": 31,
   "metadata": {},
   "outputs": [
    {
     "data": {
      "text/plain": [
       "{'geometry': '3D MultiPolygon',\n",
       " 'geometry_column': 'geometry',\n",
       " 'properties': {'art_code': 'integer',\n",
       "  'art_text': 'string',\n",
       "  'bezirksname': 'string',\n",
       "  'bfs': 'integer',\n",
       "  'gemeindename': 'string',\n",
       "  'geodb_oid': 'integer',\n",
       "  'quartiername': 'string',\n",
       "  'quartiernummer': 'integer'},\n",
       " 'required': ['geometry',\n",
       "  'bfs',\n",
       "  'gemeindename',\n",
       "  'bezirksname',\n",
       "  'quartiername',\n",
       "  'quartiernummer',\n",
       "  'art_text',\n",
       "  'art_code',\n",
       "  'geodb_oid']}"
      ]
     },
     "execution_count": 31,
     "metadata": {},
     "output_type": "execute_result"
    }
   ],
   "source": [
    "wfs11.get_schema('ms:ogd-0278_arv_basis_up_gemeinden_stadtquartiere_f')"
   ]
  }
 ],
 "metadata": {
  "kernelspec": {
   "display_name": "Python 3",
   "language": "python",
   "name": "python3"
  },
  "language_info": {
   "codemirror_mode": {
    "name": "ipython",
    "version": 3
   },
   "file_extension": ".py",
   "mimetype": "text/x-python",
   "name": "python",
   "nbconvert_exporter": "python",
   "pygments_lexer": "ipython3",
   "version": "3.6.1"
  },
  "orig_nbformat": 4,
  "vscode": {
   "interpreter": {
    "hash": "aee8b7b246df8f9039afb4144a1f6fd8d2ca17a180786b69acc140d282b71a49"
   }
  }
 },
 "nbformat": 4,
 "nbformat_minor": 2
}
