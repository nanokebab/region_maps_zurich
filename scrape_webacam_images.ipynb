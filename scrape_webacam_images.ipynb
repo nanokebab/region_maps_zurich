{
 "cells": [
  {
   "cell_type": "code",
   "execution_count": 3,
   "metadata": {},
   "outputs": [],
   "source": [
    "# code for scraping webcam images\n",
    "\n",
    "import requests\n",
    "import shutil\n",
    "import datetime\n",
    "\n",
    "WEBCAM_URL = 'https://www.surfclub-uri.ch/webcam/webcam_axenegg.jpg'\n",
    "# WEBCAM_URL = 'https://www.surfclub-uri.ch/webcam/webcam_bucht.jpg'\n",
    "\n",
    "now = datetime.datetime.now()\n",
    "\n",
    "FILEPATH = 'data/raw/'\n",
    "FILENAME = WEBCAM_URL.split('.')[-2].split('_')[-1] + '_' + str(now.year) + str(now.month).zfill(2) + str(now.day).zfill(2) + str(now.hour).zfill(2) + str(now.minute).zfill(2) + '.jpg'\n",
    "FILENAME = FILEPATH + FILENAME\n",
    "\n",
    "res = requests.get(WEBCAM_URL, stream = True)\n",
    "\n",
    "if res.status_code == 200:\n",
    "    with open(FILENAME,'wb') as f:\n",
    "        shutil.copyfileobj(res.raw, f)\n",
    "    print('Image sucessfully Downloaded: ',FILENAME)\n",
    "else:\n",
    "    print('Image Couldn\\'t be retrieved')"
   ]
  }
 ],
 "metadata": {
  "kernelspec": {
   "display_name": "Python 3",
   "language": "python",
   "name": "python3"
  },
  "language_info": {
   "codemirror_mode": {
    "name": "ipython",
    "version": 3
   },
   "file_extension": ".py",
   "mimetype": "text/x-python",
   "name": "python",
   "nbconvert_exporter": "python",
   "pygments_lexer": "ipython3",
   "version": "3.11.3"
  },
  "orig_nbformat": 4
 },
 "nbformat": 4,
 "nbformat_minor": 2
}
